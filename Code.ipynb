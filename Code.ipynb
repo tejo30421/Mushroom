{
 "cells": [
  {
   "cell_type": "code",
   "execution_count": 38,
   "id": "2fcd2f65",
   "metadata": {},
   "outputs": [],
   "source": [
    "import numpy as np\n",
    "import pandas as pd\n",
    "import seaborn as sns\n",
    "import matplotlib.pyplot as plt\n",
    "# import osimport graphviz\n",
    "\n",
    "from sklearn.svm import SVC\n",
    "from sklearn import datasets\n",
    "from sklearn.model_selection import train_test_split\n",
    "from sklearn.linear_model import LogisticRegression\n",
    "from sklearn.model_selection import cross_val_score\n",
    "\n",
    "from sklearn.preprocessing import LabelEncoder\n",
    "from sklearn.preprocessing import StandardScaler\n",
    "from sklearn.neural_network import MLPClassifier\n",
    "from sklearn.metrics import classification_report\n",
    "from sklearn.metrics import accuracy_score\n",
    "from sklearn.tree import DecisionTreeClassifier"
   ]
  },
  {
   "cell_type": "code",
   "execution_count": 39,
   "id": "b26b7fa0",
   "metadata": {},
   "outputs": [],
   "source": [
    "urld = 'agaricus-lepiota.data'\n",
    "urln = 'agaricus-lepiota.names'"
   ]
  },
  {
   "cell_type": "code",
   "execution_count": 40,
   "id": "97b3b3e1",
   "metadata": {},
   "outputs": [],
   "source": [
    "data = pd.read_csv(urld)"
   ]
  },
  {
   "cell_type": "code",
   "execution_count": 41,
   "id": "30bb0e62",
   "metadata": {},
   "outputs": [],
   "source": [
    "data=data.rename(columns={'p':'Attribute', 'x':'Cap-shape','s':'Cap-Surface','n':'Cap-Color','t':'Bruises?','p.1':'Odor','f':'Gill-attachment','c':'Gill-spacing','n.1':'Gill-size','k':'Gill-color','e':'Stalk-shape','e.1':'Stalk-root','s.1':'Stalk-surface-above-ring','s.2':'Stalk-surface-below-ring','w':'Stalk-color-above-ring','w.1':'Stalk-color-below-ring','p.2':'Veil-type','w.2':'Veil-color','o':'Ring-number','p.3':'Ring-type','k.1':'Spore-print-color','s.3':'Population','u':'Habitat'})"
   ]
  },
  {
   "cell_type": "code",
   "execution_count": 42,
   "id": "4247b3fd",
   "metadata": {},
   "outputs": [
    {
     "data": {
      "text/plain": [
       "Index(['Attribute', 'Cap-shape', 'Cap-Surface', 'Cap-Color', 'Bruises?',\n",
       "       'Odor', 'Gill-attachment', 'Gill-spacing', 'Gill-size', 'Gill-color',\n",
       "       'Stalk-shape', 'Stalk-root', 'Stalk-surface-above-ring',\n",
       "       'Stalk-surface-below-ring', 'Stalk-color-above-ring',\n",
       "       'Stalk-color-below-ring', 'Veil-type', 'Veil-color', 'Ring-number',\n",
       "       'Ring-type', 'Spore-print-color', 'Population', 'Habitat'],\n",
       "      dtype='object')"
      ]
     },
     "execution_count": 42,
     "metadata": {},
     "output_type": "execute_result"
    }
   ],
   "source": [
    "data.columns"
   ]
  },
  {
   "cell_type": "code",
   "execution_count": 43,
   "id": "4a331b84",
   "metadata": {},
   "outputs": [],
   "source": [
    "mappings = list()\n",
    "encoder = LabelEncoder()\n",
    "\n",
    "for column in range(len(data.columns)):\n",
    "    data[data.columns[column]] = encoder.fit_transform(data[data.columns[column]])\n",
    "    mappings_dict = {index: label for index, label in enumerate(encoder.classes_)}\n",
    "    mappings.append(mappings_dict)"
   ]
  },
  {
   "cell_type": "code",
   "execution_count": 44,
   "id": "c0929e3f",
   "metadata": {
    "collapsed": true
   },
   "outputs": [
    {
     "data": {
      "text/html": [
       "<div>\n",
       "<style scoped>\n",
       "    .dataframe tbody tr th:only-of-type {\n",
       "        vertical-align: middle;\n",
       "    }\n",
       "\n",
       "    .dataframe tbody tr th {\n",
       "        vertical-align: top;\n",
       "    }\n",
       "\n",
       "    .dataframe thead th {\n",
       "        text-align: right;\n",
       "    }\n",
       "</style>\n",
       "<table border=\"1\" class=\"dataframe\">\n",
       "  <thead>\n",
       "    <tr style=\"text-align: right;\">\n",
       "      <th></th>\n",
       "      <th>Attribute</th>\n",
       "      <th>Cap-shape</th>\n",
       "      <th>Cap-Surface</th>\n",
       "      <th>Cap-Color</th>\n",
       "      <th>Bruises?</th>\n",
       "      <th>Odor</th>\n",
       "      <th>Gill-attachment</th>\n",
       "      <th>Gill-spacing</th>\n",
       "      <th>Gill-size</th>\n",
       "      <th>Gill-color</th>\n",
       "      <th>...</th>\n",
       "      <th>Stalk-surface-below-ring</th>\n",
       "      <th>Stalk-color-above-ring</th>\n",
       "      <th>Stalk-color-below-ring</th>\n",
       "      <th>Veil-type</th>\n",
       "      <th>Veil-color</th>\n",
       "      <th>Ring-number</th>\n",
       "      <th>Ring-type</th>\n",
       "      <th>Spore-print-color</th>\n",
       "      <th>Population</th>\n",
       "      <th>Habitat</th>\n",
       "    </tr>\n",
       "  </thead>\n",
       "  <tbody>\n",
       "    <tr>\n",
       "      <th>0</th>\n",
       "      <td>0</td>\n",
       "      <td>5</td>\n",
       "      <td>2</td>\n",
       "      <td>9</td>\n",
       "      <td>1</td>\n",
       "      <td>0</td>\n",
       "      <td>1</td>\n",
       "      <td>0</td>\n",
       "      <td>0</td>\n",
       "      <td>4</td>\n",
       "      <td>...</td>\n",
       "      <td>2</td>\n",
       "      <td>7</td>\n",
       "      <td>7</td>\n",
       "      <td>0</td>\n",
       "      <td>2</td>\n",
       "      <td>1</td>\n",
       "      <td>4</td>\n",
       "      <td>3</td>\n",
       "      <td>2</td>\n",
       "      <td>1</td>\n",
       "    </tr>\n",
       "    <tr>\n",
       "      <th>3005</th>\n",
       "      <td>0</td>\n",
       "      <td>2</td>\n",
       "      <td>0</td>\n",
       "      <td>2</td>\n",
       "      <td>1</td>\n",
       "      <td>5</td>\n",
       "      <td>1</td>\n",
       "      <td>0</td>\n",
       "      <td>0</td>\n",
       "      <td>9</td>\n",
       "      <td>...</td>\n",
       "      <td>2</td>\n",
       "      <td>3</td>\n",
       "      <td>6</td>\n",
       "      <td>0</td>\n",
       "      <td>2</td>\n",
       "      <td>1</td>\n",
       "      <td>4</td>\n",
       "      <td>3</td>\n",
       "      <td>4</td>\n",
       "      <td>0</td>\n",
       "    </tr>\n",
       "    <tr>\n",
       "      <th>3006</th>\n",
       "      <td>0</td>\n",
       "      <td>2</td>\n",
       "      <td>3</td>\n",
       "      <td>4</td>\n",
       "      <td>1</td>\n",
       "      <td>5</td>\n",
       "      <td>1</td>\n",
       "      <td>0</td>\n",
       "      <td>0</td>\n",
       "      <td>7</td>\n",
       "      <td>...</td>\n",
       "      <td>2</td>\n",
       "      <td>7</td>\n",
       "      <td>7</td>\n",
       "      <td>0</td>\n",
       "      <td>2</td>\n",
       "      <td>1</td>\n",
       "      <td>4</td>\n",
       "      <td>2</td>\n",
       "      <td>5</td>\n",
       "      <td>0</td>\n",
       "    </tr>\n",
       "    <tr>\n",
       "      <th>3007</th>\n",
       "      <td>0</td>\n",
       "      <td>2</td>\n",
       "      <td>0</td>\n",
       "      <td>2</td>\n",
       "      <td>1</td>\n",
       "      <td>5</td>\n",
       "      <td>1</td>\n",
       "      <td>0</td>\n",
       "      <td>0</td>\n",
       "      <td>7</td>\n",
       "      <td>...</td>\n",
       "      <td>2</td>\n",
       "      <td>3</td>\n",
       "      <td>7</td>\n",
       "      <td>0</td>\n",
       "      <td>2</td>\n",
       "      <td>1</td>\n",
       "      <td>4</td>\n",
       "      <td>2</td>\n",
       "      <td>5</td>\n",
       "      <td>0</td>\n",
       "    </tr>\n",
       "    <tr>\n",
       "      <th>3009</th>\n",
       "      <td>0</td>\n",
       "      <td>2</td>\n",
       "      <td>0</td>\n",
       "      <td>3</td>\n",
       "      <td>1</td>\n",
       "      <td>5</td>\n",
       "      <td>1</td>\n",
       "      <td>0</td>\n",
       "      <td>0</td>\n",
       "      <td>10</td>\n",
       "      <td>...</td>\n",
       "      <td>2</td>\n",
       "      <td>7</td>\n",
       "      <td>7</td>\n",
       "      <td>0</td>\n",
       "      <td>2</td>\n",
       "      <td>1</td>\n",
       "      <td>4</td>\n",
       "      <td>3</td>\n",
       "      <td>4</td>\n",
       "      <td>0</td>\n",
       "    </tr>\n",
       "    <tr>\n",
       "      <th>...</th>\n",
       "      <td>...</td>\n",
       "      <td>...</td>\n",
       "      <td>...</td>\n",
       "      <td>...</td>\n",
       "      <td>...</td>\n",
       "      <td>...</td>\n",
       "      <td>...</td>\n",
       "      <td>...</td>\n",
       "      <td>...</td>\n",
       "      <td>...</td>\n",
       "      <td>...</td>\n",
       "      <td>...</td>\n",
       "      <td>...</td>\n",
       "      <td>...</td>\n",
       "      <td>...</td>\n",
       "      <td>...</td>\n",
       "      <td>...</td>\n",
       "      <td>...</td>\n",
       "      <td>...</td>\n",
       "      <td>...</td>\n",
       "      <td>...</td>\n",
       "    </tr>\n",
       "    <tr>\n",
       "      <th>5075</th>\n",
       "      <td>1</td>\n",
       "      <td>2</td>\n",
       "      <td>0</td>\n",
       "      <td>3</td>\n",
       "      <td>0</td>\n",
       "      <td>2</td>\n",
       "      <td>1</td>\n",
       "      <td>0</td>\n",
       "      <td>0</td>\n",
       "      <td>3</td>\n",
       "      <td>...</td>\n",
       "      <td>1</td>\n",
       "      <td>4</td>\n",
       "      <td>6</td>\n",
       "      <td>0</td>\n",
       "      <td>2</td>\n",
       "      <td>1</td>\n",
       "      <td>2</td>\n",
       "      <td>1</td>\n",
       "      <td>5</td>\n",
       "      <td>4</td>\n",
       "    </tr>\n",
       "    <tr>\n",
       "      <th>5076</th>\n",
       "      <td>1</td>\n",
       "      <td>2</td>\n",
       "      <td>0</td>\n",
       "      <td>9</td>\n",
       "      <td>0</td>\n",
       "      <td>2</td>\n",
       "      <td>1</td>\n",
       "      <td>0</td>\n",
       "      <td>0</td>\n",
       "      <td>3</td>\n",
       "      <td>...</td>\n",
       "      <td>1</td>\n",
       "      <td>0</td>\n",
       "      <td>4</td>\n",
       "      <td>0</td>\n",
       "      <td>2</td>\n",
       "      <td>1</td>\n",
       "      <td>2</td>\n",
       "      <td>1</td>\n",
       "      <td>4</td>\n",
       "      <td>4</td>\n",
       "    </tr>\n",
       "    <tr>\n",
       "      <th>5077</th>\n",
       "      <td>1</td>\n",
       "      <td>2</td>\n",
       "      <td>0</td>\n",
       "      <td>9</td>\n",
       "      <td>0</td>\n",
       "      <td>2</td>\n",
       "      <td>1</td>\n",
       "      <td>0</td>\n",
       "      <td>0</td>\n",
       "      <td>3</td>\n",
       "      <td>...</td>\n",
       "      <td>1</td>\n",
       "      <td>0</td>\n",
       "      <td>6</td>\n",
       "      <td>0</td>\n",
       "      <td>2</td>\n",
       "      <td>1</td>\n",
       "      <td>2</td>\n",
       "      <td>1</td>\n",
       "      <td>5</td>\n",
       "      <td>0</td>\n",
       "    </tr>\n",
       "    <tr>\n",
       "      <th>5061</th>\n",
       "      <td>1</td>\n",
       "      <td>5</td>\n",
       "      <td>3</td>\n",
       "      <td>3</td>\n",
       "      <td>0</td>\n",
       "      <td>2</td>\n",
       "      <td>1</td>\n",
       "      <td>0</td>\n",
       "      <td>0</td>\n",
       "      <td>7</td>\n",
       "      <td>...</td>\n",
       "      <td>1</td>\n",
       "      <td>0</td>\n",
       "      <td>6</td>\n",
       "      <td>0</td>\n",
       "      <td>2</td>\n",
       "      <td>1</td>\n",
       "      <td>2</td>\n",
       "      <td>1</td>\n",
       "      <td>5</td>\n",
       "      <td>4</td>\n",
       "    </tr>\n",
       "    <tr>\n",
       "      <th>5176</th>\n",
       "      <td>1</td>\n",
       "      <td>0</td>\n",
       "      <td>3</td>\n",
       "      <td>8</td>\n",
       "      <td>1</td>\n",
       "      <td>5</td>\n",
       "      <td>1</td>\n",
       "      <td>0</td>\n",
       "      <td>0</td>\n",
       "      <td>8</td>\n",
       "      <td>...</td>\n",
       "      <td>2</td>\n",
       "      <td>7</td>\n",
       "      <td>7</td>\n",
       "      <td>0</td>\n",
       "      <td>2</td>\n",
       "      <td>2</td>\n",
       "      <td>4</td>\n",
       "      <td>5</td>\n",
       "      <td>4</td>\n",
       "      <td>1</td>\n",
       "    </tr>\n",
       "  </tbody>\n",
       "</table>\n",
       "<p>8123 rows × 23 columns</p>\n",
       "</div>"
      ],
      "text/plain": [
       "      Attribute  Cap-shape  Cap-Surface  Cap-Color  Bruises?  Odor  \\\n",
       "0             0          5            2          9         1     0   \n",
       "3005          0          2            0          2         1     5   \n",
       "3006          0          2            3          4         1     5   \n",
       "3007          0          2            0          2         1     5   \n",
       "3009          0          2            0          3         1     5   \n",
       "...         ...        ...          ...        ...       ...   ...   \n",
       "5075          1          2            0          3         0     2   \n",
       "5076          1          2            0          9         0     2   \n",
       "5077          1          2            0          9         0     2   \n",
       "5061          1          5            3          3         0     2   \n",
       "5176          1          0            3          8         1     5   \n",
       "\n",
       "      Gill-attachment  Gill-spacing  Gill-size  Gill-color  ...  \\\n",
       "0                   1             0          0           4  ...   \n",
       "3005                1             0          0           9  ...   \n",
       "3006                1             0          0           7  ...   \n",
       "3007                1             0          0           7  ...   \n",
       "3009                1             0          0          10  ...   \n",
       "...               ...           ...        ...         ...  ...   \n",
       "5075                1             0          0           3  ...   \n",
       "5076                1             0          0           3  ...   \n",
       "5077                1             0          0           3  ...   \n",
       "5061                1             0          0           7  ...   \n",
       "5176                1             0          0           8  ...   \n",
       "\n",
       "      Stalk-surface-below-ring  Stalk-color-above-ring  \\\n",
       "0                            2                       7   \n",
       "3005                         2                       3   \n",
       "3006                         2                       7   \n",
       "3007                         2                       3   \n",
       "3009                         2                       7   \n",
       "...                        ...                     ...   \n",
       "5075                         1                       4   \n",
       "5076                         1                       0   \n",
       "5077                         1                       0   \n",
       "5061                         1                       0   \n",
       "5176                         2                       7   \n",
       "\n",
       "      Stalk-color-below-ring  Veil-type  Veil-color  Ring-number  Ring-type  \\\n",
       "0                          7          0           2            1          4   \n",
       "3005                       6          0           2            1          4   \n",
       "3006                       7          0           2            1          4   \n",
       "3007                       7          0           2            1          4   \n",
       "3009                       7          0           2            1          4   \n",
       "...                      ...        ...         ...          ...        ...   \n",
       "5075                       6          0           2            1          2   \n",
       "5076                       4          0           2            1          2   \n",
       "5077                       6          0           2            1          2   \n",
       "5061                       6          0           2            1          2   \n",
       "5176                       7          0           2            2          4   \n",
       "\n",
       "      Spore-print-color  Population  Habitat  \n",
       "0                     3           2        1  \n",
       "3005                  3           4        0  \n",
       "3006                  2           5        0  \n",
       "3007                  2           5        0  \n",
       "3009                  3           4        0  \n",
       "...                 ...         ...      ...  \n",
       "5075                  1           5        4  \n",
       "5076                  1           4        4  \n",
       "5077                  1           5        0  \n",
       "5061                  1           5        4  \n",
       "5176                  5           4        1  \n",
       "\n",
       "[8123 rows x 23 columns]"
      ]
     },
     "execution_count": 44,
     "metadata": {},
     "output_type": "execute_result"
    }
   ],
   "source": [
    "data.sort_values(by=['Attribute'])"
   ]
  },
  {
   "cell_type": "code",
   "execution_count": 45,
   "id": "fe063f37",
   "metadata": {
    "collapsed": true
   },
   "outputs": [
    {
     "data": {
      "text/plain": [
       "Attribute                   0\n",
       "Cap-shape                   0\n",
       "Cap-Surface                 0\n",
       "Cap-Color                   0\n",
       "Bruises?                    0\n",
       "Odor                        0\n",
       "Gill-attachment             0\n",
       "Gill-spacing                0\n",
       "Gill-size                   0\n",
       "Gill-color                  0\n",
       "Stalk-shape                 0\n",
       "Stalk-root                  0\n",
       "Stalk-surface-above-ring    0\n",
       "Stalk-surface-below-ring    0\n",
       "Stalk-color-above-ring      0\n",
       "Stalk-color-below-ring      0\n",
       "Veil-type                   0\n",
       "Veil-color                  0\n",
       "Ring-number                 0\n",
       "Ring-type                   0\n",
       "Spore-print-color           0\n",
       "Population                  0\n",
       "Habitat                     0\n",
       "dtype: int64"
      ]
     },
     "execution_count": 45,
     "metadata": {},
     "output_type": "execute_result"
    }
   ],
   "source": [
    "data.isnull().sum()"
   ]
  },
  {
   "cell_type": "code",
   "execution_count": 46,
   "id": "897bc010",
   "metadata": {
    "collapsed": true
   },
   "outputs": [
    {
     "data": {
      "text/plain": [
       "[{0: 'e', 1: 'p'},\n",
       " {0: 'b', 1: 'c', 2: 'f', 3: 'k', 4: 's', 5: 'x'},\n",
       " {0: 'f', 1: 'g', 2: 's', 3: 'y'},\n",
       " {0: 'b',\n",
       "  1: 'c',\n",
       "  2: 'e',\n",
       "  3: 'g',\n",
       "  4: 'n',\n",
       "  5: 'p',\n",
       "  6: 'r',\n",
       "  7: 'u',\n",
       "  8: 'w',\n",
       "  9: 'y'},\n",
       " {0: 'f', 1: 't'},\n",
       " {0: 'a', 1: 'c', 2: 'f', 3: 'l', 4: 'm', 5: 'n', 6: 'p', 7: 's', 8: 'y'},\n",
       " {0: 'a', 1: 'f'},\n",
       " {0: 'c', 1: 'w'},\n",
       " {0: 'b', 1: 'n'},\n",
       " {0: 'b',\n",
       "  1: 'e',\n",
       "  2: 'g',\n",
       "  3: 'h',\n",
       "  4: 'k',\n",
       "  5: 'n',\n",
       "  6: 'o',\n",
       "  7: 'p',\n",
       "  8: 'r',\n",
       "  9: 'u',\n",
       "  10: 'w',\n",
       "  11: 'y'},\n",
       " {0: 'e', 1: 't'},\n",
       " {0: '?', 1: 'b', 2: 'c', 3: 'e', 4: 'r'},\n",
       " {0: 'f', 1: 'k', 2: 's', 3: 'y'},\n",
       " {0: 'f', 1: 'k', 2: 's', 3: 'y'},\n",
       " {0: 'b', 1: 'c', 2: 'e', 3: 'g', 4: 'n', 5: 'o', 6: 'p', 7: 'w', 8: 'y'},\n",
       " {0: 'b', 1: 'c', 2: 'e', 3: 'g', 4: 'n', 5: 'o', 6: 'p', 7: 'w', 8: 'y'},\n",
       " {0: 'p'},\n",
       " {0: 'n', 1: 'o', 2: 'w', 3: 'y'},\n",
       " {0: 'n', 1: 'o', 2: 't'},\n",
       " {0: 'e', 1: 'f', 2: 'l', 3: 'n', 4: 'p'},\n",
       " {0: 'b', 1: 'h', 2: 'k', 3: 'n', 4: 'o', 5: 'r', 6: 'u', 7: 'w', 8: 'y'},\n",
       " {0: 'a', 1: 'c', 2: 'n', 3: 's', 4: 'v', 5: 'y'},\n",
       " {0: 'd', 1: 'g', 2: 'l', 3: 'm', 4: 'p', 5: 'u', 6: 'w'}]"
      ]
     },
     "execution_count": 46,
     "metadata": {},
     "output_type": "execute_result"
    }
   ],
   "source": [
    "mappings"
   ]
  },
  {
   "cell_type": "code",
   "execution_count": 47,
   "id": "ab09dee2",
   "metadata": {},
   "outputs": [],
   "source": [
    "y = data['Attribute']\n",
    "X = data.drop('Attribute', axis=1)"
   ]
  },
  {
   "cell_type": "code",
   "execution_count": 48,
   "id": "654f0014",
   "metadata": {},
   "outputs": [],
   "source": [
    "scaler = StandardScaler()\n",
    "X = pd.DataFrame(scaler.fit_transform(X), columns=X.columns)"
   ]
  },
  {
   "cell_type": "code",
   "execution_count": 49,
   "id": "a3a17f73",
   "metadata": {
    "collapsed": true
   },
   "outputs": [
    {
     "data": {
      "text/html": [
       "<div>\n",
       "<style scoped>\n",
       "    .dataframe tbody tr th:only-of-type {\n",
       "        vertical-align: middle;\n",
       "    }\n",
       "\n",
       "    .dataframe tbody tr th {\n",
       "        vertical-align: top;\n",
       "    }\n",
       "\n",
       "    .dataframe thead th {\n",
       "        text-align: right;\n",
       "    }\n",
       "</style>\n",
       "<table border=\"1\" class=\"dataframe\">\n",
       "  <thead>\n",
       "    <tr style=\"text-align: right;\">\n",
       "      <th></th>\n",
       "      <th>Cap-shape</th>\n",
       "      <th>Cap-Surface</th>\n",
       "      <th>Cap-Color</th>\n",
       "      <th>Bruises?</th>\n",
       "      <th>Odor</th>\n",
       "      <th>Gill-attachment</th>\n",
       "      <th>Gill-spacing</th>\n",
       "      <th>Gill-size</th>\n",
       "      <th>Gill-color</th>\n",
       "      <th>Stalk-shape</th>\n",
       "      <th>...</th>\n",
       "      <th>Stalk-surface-below-ring</th>\n",
       "      <th>Stalk-color-above-ring</th>\n",
       "      <th>Stalk-color-below-ring</th>\n",
       "      <th>Veil-type</th>\n",
       "      <th>Veil-color</th>\n",
       "      <th>Ring-number</th>\n",
       "      <th>Ring-type</th>\n",
       "      <th>Spore-print-color</th>\n",
       "      <th>Population</th>\n",
       "      <th>Habitat</th>\n",
       "    </tr>\n",
       "  </thead>\n",
       "  <tbody>\n",
       "    <tr>\n",
       "      <th>0</th>\n",
       "      <td>1.029843</td>\n",
       "      <td>0.140137</td>\n",
       "      <td>1.765745</td>\n",
       "      <td>1.186092</td>\n",
       "      <td>-1.970181</td>\n",
       "      <td>0.162907</td>\n",
       "      <td>-0.438896</td>\n",
       "      <td>-0.668905</td>\n",
       "      <td>-0.229013</td>\n",
       "      <td>-1.144969</td>\n",
       "      <td>...</td>\n",
       "      <td>0.586433</td>\n",
       "      <td>0.622495</td>\n",
       "      <td>0.632046</td>\n",
       "      <td>0.0</td>\n",
       "      <td>0.142046</td>\n",
       "      <td>-0.256149</td>\n",
       "      <td>0.948192</td>\n",
       "      <td>-0.250545</td>\n",
       "      <td>-1.313112</td>\n",
       "      <td>-0.295537</td>\n",
       "    </tr>\n",
       "    <tr>\n",
       "      <th>1</th>\n",
       "      <td>-2.086928</td>\n",
       "      <td>0.140137</td>\n",
       "      <td>1.372944</td>\n",
       "      <td>1.186092</td>\n",
       "      <td>-0.544073</td>\n",
       "      <td>0.162907</td>\n",
       "      <td>-0.438896</td>\n",
       "      <td>-0.668905</td>\n",
       "      <td>0.053446</td>\n",
       "      <td>-1.144969</td>\n",
       "      <td>...</td>\n",
       "      <td>0.586433</td>\n",
       "      <td>0.622495</td>\n",
       "      <td>0.632046</td>\n",
       "      <td>0.0</td>\n",
       "      <td>0.142046</td>\n",
       "      <td>-0.256149</td>\n",
       "      <td>0.948192</td>\n",
       "      <td>-0.250545</td>\n",
       "      <td>-1.313112</td>\n",
       "      <td>0.867566</td>\n",
       "    </tr>\n",
       "    <tr>\n",
       "      <th>2</th>\n",
       "      <td>1.029843</td>\n",
       "      <td>0.953230</td>\n",
       "      <td>1.372944</td>\n",
       "      <td>1.186092</td>\n",
       "      <td>0.882034</td>\n",
       "      <td>0.162907</td>\n",
       "      <td>-0.438896</td>\n",
       "      <td>1.494980</td>\n",
       "      <td>0.053446</td>\n",
       "      <td>-1.144969</td>\n",
       "      <td>...</td>\n",
       "      <td>0.586433</td>\n",
       "      <td>0.622495</td>\n",
       "      <td>0.632046</td>\n",
       "      <td>0.0</td>\n",
       "      <td>0.142046</td>\n",
       "      <td>-0.256149</td>\n",
       "      <td>0.948192</td>\n",
       "      <td>-0.670255</td>\n",
       "      <td>-0.514429</td>\n",
       "      <td>2.030668</td>\n",
       "    </tr>\n",
       "    <tr>\n",
       "      <th>3</th>\n",
       "      <td>1.029843</td>\n",
       "      <td>0.140137</td>\n",
       "      <td>-0.591064</td>\n",
       "      <td>-0.843105</td>\n",
       "      <td>0.406665</td>\n",
       "      <td>0.162907</td>\n",
       "      <td>2.278445</td>\n",
       "      <td>-0.668905</td>\n",
       "      <td>-0.229013</td>\n",
       "      <td>0.873386</td>\n",
       "      <td>...</td>\n",
       "      <td>0.586433</td>\n",
       "      <td>0.622495</td>\n",
       "      <td>0.632046</td>\n",
       "      <td>0.0</td>\n",
       "      <td>0.142046</td>\n",
       "      <td>-0.256149</td>\n",
       "      <td>-1.272091</td>\n",
       "      <td>-0.250545</td>\n",
       "      <td>-2.910478</td>\n",
       "      <td>-0.295537</td>\n",
       "    </tr>\n",
       "    <tr>\n",
       "      <th>4</th>\n",
       "      <td>1.029843</td>\n",
       "      <td>0.953230</td>\n",
       "      <td>1.765745</td>\n",
       "      <td>1.186092</td>\n",
       "      <td>-1.970181</td>\n",
       "      <td>0.162907</td>\n",
       "      <td>-0.438896</td>\n",
       "      <td>-0.668905</td>\n",
       "      <td>0.053446</td>\n",
       "      <td>-1.144969</td>\n",
       "      <td>...</td>\n",
       "      <td>0.586433</td>\n",
       "      <td>0.622495</td>\n",
       "      <td>0.632046</td>\n",
       "      <td>0.0</td>\n",
       "      <td>0.142046</td>\n",
       "      <td>-0.256149</td>\n",
       "      <td>0.948192</td>\n",
       "      <td>-0.670255</td>\n",
       "      <td>-1.313112</td>\n",
       "      <td>-0.295537</td>\n",
       "    </tr>\n",
       "    <tr>\n",
       "      <th>...</th>\n",
       "      <td>...</td>\n",
       "      <td>...</td>\n",
       "      <td>...</td>\n",
       "      <td>...</td>\n",
       "      <td>...</td>\n",
       "      <td>...</td>\n",
       "      <td>...</td>\n",
       "      <td>...</td>\n",
       "      <td>...</td>\n",
       "      <td>...</td>\n",
       "      <td>...</td>\n",
       "      <td>...</td>\n",
       "      <td>...</td>\n",
       "      <td>...</td>\n",
       "      <td>...</td>\n",
       "      <td>...</td>\n",
       "      <td>...</td>\n",
       "      <td>...</td>\n",
       "      <td>...</td>\n",
       "      <td>...</td>\n",
       "      <td>...</td>\n",
       "    </tr>\n",
       "    <tr>\n",
       "      <th>8118</th>\n",
       "      <td>-0.216866</td>\n",
       "      <td>0.140137</td>\n",
       "      <td>-0.198263</td>\n",
       "      <td>-0.843105</td>\n",
       "      <td>0.406665</td>\n",
       "      <td>-6.138481</td>\n",
       "      <td>-0.438896</td>\n",
       "      <td>-0.668905</td>\n",
       "      <td>1.748194</td>\n",
       "      <td>-1.144969</td>\n",
       "      <td>...</td>\n",
       "      <td>0.586433</td>\n",
       "      <td>-0.429195</td>\n",
       "      <td>-0.416587</td>\n",
       "      <td>0.0</td>\n",
       "      <td>-3.978797</td>\n",
       "      <td>-0.256149</td>\n",
       "      <td>0.948192</td>\n",
       "      <td>-1.509675</td>\n",
       "      <td>-2.111795</td>\n",
       "      <td>0.286015</td>\n",
       "    </tr>\n",
       "    <tr>\n",
       "      <th>8119</th>\n",
       "      <td>1.029843</td>\n",
       "      <td>0.140137</td>\n",
       "      <td>-0.198263</td>\n",
       "      <td>-0.843105</td>\n",
       "      <td>0.406665</td>\n",
       "      <td>-6.138481</td>\n",
       "      <td>-0.438896</td>\n",
       "      <td>-0.668905</td>\n",
       "      <td>1.748194</td>\n",
       "      <td>-1.144969</td>\n",
       "      <td>...</td>\n",
       "      <td>0.586433</td>\n",
       "      <td>-0.429195</td>\n",
       "      <td>-0.416587</td>\n",
       "      <td>0.0</td>\n",
       "      <td>-8.099640</td>\n",
       "      <td>-0.256149</td>\n",
       "      <td>0.948192</td>\n",
       "      <td>-1.509675</td>\n",
       "      <td>0.284254</td>\n",
       "      <td>0.286015</td>\n",
       "    </tr>\n",
       "    <tr>\n",
       "      <th>8120</th>\n",
       "      <td>-0.840220</td>\n",
       "      <td>0.140137</td>\n",
       "      <td>-0.198263</td>\n",
       "      <td>-0.843105</td>\n",
       "      <td>0.406665</td>\n",
       "      <td>-6.138481</td>\n",
       "      <td>-0.438896</td>\n",
       "      <td>-0.668905</td>\n",
       "      <td>0.053446</td>\n",
       "      <td>-1.144969</td>\n",
       "      <td>...</td>\n",
       "      <td>0.586433</td>\n",
       "      <td>-0.429195</td>\n",
       "      <td>-0.416587</td>\n",
       "      <td>0.0</td>\n",
       "      <td>-3.978797</td>\n",
       "      <td>-0.256149</td>\n",
       "      <td>0.948192</td>\n",
       "      <td>-1.509675</td>\n",
       "      <td>-2.111795</td>\n",
       "      <td>0.286015</td>\n",
       "    </tr>\n",
       "    <tr>\n",
       "      <th>8121</th>\n",
       "      <td>-0.216866</td>\n",
       "      <td>0.953230</td>\n",
       "      <td>-0.198263</td>\n",
       "      <td>-0.843105</td>\n",
       "      <td>1.832772</td>\n",
       "      <td>0.162907</td>\n",
       "      <td>-0.438896</td>\n",
       "      <td>1.494980</td>\n",
       "      <td>-1.358845</td>\n",
       "      <td>0.873386</td>\n",
       "      <td>...</td>\n",
       "      <td>-0.892945</td>\n",
       "      <td>0.622495</td>\n",
       "      <td>0.632046</td>\n",
       "      <td>0.0</td>\n",
       "      <td>0.142046</td>\n",
       "      <td>-0.256149</td>\n",
       "      <td>-1.272091</td>\n",
       "      <td>1.428295</td>\n",
       "      <td>0.284254</td>\n",
       "      <td>0.286015</td>\n",
       "    </tr>\n",
       "    <tr>\n",
       "      <th>8122</th>\n",
       "      <td>1.029843</td>\n",
       "      <td>0.140137</td>\n",
       "      <td>-0.198263</td>\n",
       "      <td>-0.843105</td>\n",
       "      <td>0.406665</td>\n",
       "      <td>-6.138481</td>\n",
       "      <td>-0.438896</td>\n",
       "      <td>-0.668905</td>\n",
       "      <td>1.748194</td>\n",
       "      <td>-1.144969</td>\n",
       "      <td>...</td>\n",
       "      <td>0.586433</td>\n",
       "      <td>-0.429195</td>\n",
       "      <td>-0.416587</td>\n",
       "      <td>0.0</td>\n",
       "      <td>-3.978797</td>\n",
       "      <td>-0.256149</td>\n",
       "      <td>0.948192</td>\n",
       "      <td>0.169165</td>\n",
       "      <td>-2.111795</td>\n",
       "      <td>0.286015</td>\n",
       "    </tr>\n",
       "  </tbody>\n",
       "</table>\n",
       "<p>8123 rows × 22 columns</p>\n",
       "</div>"
      ],
      "text/plain": [
       "      Cap-shape  Cap-Surface  Cap-Color  Bruises?      Odor  Gill-attachment  \\\n",
       "0      1.029843     0.140137   1.765745  1.186092 -1.970181         0.162907   \n",
       "1     -2.086928     0.140137   1.372944  1.186092 -0.544073         0.162907   \n",
       "2      1.029843     0.953230   1.372944  1.186092  0.882034         0.162907   \n",
       "3      1.029843     0.140137  -0.591064 -0.843105  0.406665         0.162907   \n",
       "4      1.029843     0.953230   1.765745  1.186092 -1.970181         0.162907   \n",
       "...         ...          ...        ...       ...       ...              ...   \n",
       "8118  -0.216866     0.140137  -0.198263 -0.843105  0.406665        -6.138481   \n",
       "8119   1.029843     0.140137  -0.198263 -0.843105  0.406665        -6.138481   \n",
       "8120  -0.840220     0.140137  -0.198263 -0.843105  0.406665        -6.138481   \n",
       "8121  -0.216866     0.953230  -0.198263 -0.843105  1.832772         0.162907   \n",
       "8122   1.029843     0.140137  -0.198263 -0.843105  0.406665        -6.138481   \n",
       "\n",
       "      Gill-spacing  Gill-size  Gill-color  Stalk-shape  ...  \\\n",
       "0        -0.438896  -0.668905   -0.229013    -1.144969  ...   \n",
       "1        -0.438896  -0.668905    0.053446    -1.144969  ...   \n",
       "2        -0.438896   1.494980    0.053446    -1.144969  ...   \n",
       "3         2.278445  -0.668905   -0.229013     0.873386  ...   \n",
       "4        -0.438896  -0.668905    0.053446    -1.144969  ...   \n",
       "...            ...        ...         ...          ...  ...   \n",
       "8118     -0.438896  -0.668905    1.748194    -1.144969  ...   \n",
       "8119     -0.438896  -0.668905    1.748194    -1.144969  ...   \n",
       "8120     -0.438896  -0.668905    0.053446    -1.144969  ...   \n",
       "8121     -0.438896   1.494980   -1.358845     0.873386  ...   \n",
       "8122     -0.438896  -0.668905    1.748194    -1.144969  ...   \n",
       "\n",
       "      Stalk-surface-below-ring  Stalk-color-above-ring  \\\n",
       "0                     0.586433                0.622495   \n",
       "1                     0.586433                0.622495   \n",
       "2                     0.586433                0.622495   \n",
       "3                     0.586433                0.622495   \n",
       "4                     0.586433                0.622495   \n",
       "...                        ...                     ...   \n",
       "8118                  0.586433               -0.429195   \n",
       "8119                  0.586433               -0.429195   \n",
       "8120                  0.586433               -0.429195   \n",
       "8121                 -0.892945                0.622495   \n",
       "8122                  0.586433               -0.429195   \n",
       "\n",
       "      Stalk-color-below-ring  Veil-type  Veil-color  Ring-number  Ring-type  \\\n",
       "0                   0.632046        0.0    0.142046    -0.256149   0.948192   \n",
       "1                   0.632046        0.0    0.142046    -0.256149   0.948192   \n",
       "2                   0.632046        0.0    0.142046    -0.256149   0.948192   \n",
       "3                   0.632046        0.0    0.142046    -0.256149  -1.272091   \n",
       "4                   0.632046        0.0    0.142046    -0.256149   0.948192   \n",
       "...                      ...        ...         ...          ...        ...   \n",
       "8118               -0.416587        0.0   -3.978797    -0.256149   0.948192   \n",
       "8119               -0.416587        0.0   -8.099640    -0.256149   0.948192   \n",
       "8120               -0.416587        0.0   -3.978797    -0.256149   0.948192   \n",
       "8121                0.632046        0.0    0.142046    -0.256149  -1.272091   \n",
       "8122               -0.416587        0.0   -3.978797    -0.256149   0.948192   \n",
       "\n",
       "      Spore-print-color  Population   Habitat  \n",
       "0             -0.250545   -1.313112 -0.295537  \n",
       "1             -0.250545   -1.313112  0.867566  \n",
       "2             -0.670255   -0.514429  2.030668  \n",
       "3             -0.250545   -2.910478 -0.295537  \n",
       "4             -0.670255   -1.313112 -0.295537  \n",
       "...                 ...         ...       ...  \n",
       "8118          -1.509675   -2.111795  0.286015  \n",
       "8119          -1.509675    0.284254  0.286015  \n",
       "8120          -1.509675   -2.111795  0.286015  \n",
       "8121           1.428295    0.284254  0.286015  \n",
       "8122           0.169165   -2.111795  0.286015  \n",
       "\n",
       "[8123 rows x 22 columns]"
      ]
     },
     "execution_count": 49,
     "metadata": {},
     "output_type": "execute_result"
    }
   ],
   "source": [
    "X"
   ]
  },
  {
   "cell_type": "code",
   "execution_count": 50,
   "id": "0cdfc361",
   "metadata": {},
   "outputs": [],
   "source": [
    "X_train, X_test, y_train, y_test = train_test_split(X, y, train_size=0.8)"
   ]
  },
  {
   "cell_type": "code",
   "execution_count": 51,
   "id": "5dd43797",
   "metadata": {},
   "outputs": [],
   "source": [
    "log_model = LogisticRegression()\n",
    "svm_model = SVC(C=1.0, kernel='rbf')\n",
    "nn_model = MLPClassifier(hidden_layer_sizes=(128, 128))"
   ]
  },
  {
   "cell_type": "code",
   "execution_count": 52,
   "id": "920b63c9",
   "metadata": {},
   "outputs": [
    {
     "data": {
      "text/plain": [
       "0.48196479133325126"
      ]
     },
     "execution_count": 52,
     "metadata": {},
     "output_type": "execute_result"
    }
   ],
   "source": [
    "np.sum(y) / len(y)"
   ]
  },
  {
   "cell_type": "code",
   "execution_count": 53,
   "id": "355f0d9e",
   "metadata": {
    "collapsed": true
   },
   "outputs": [
    {
     "data": {
      "text/html": [
       "<style>#sk-container-id-5 {color: black;}#sk-container-id-5 pre{padding: 0;}#sk-container-id-5 div.sk-toggleable {background-color: white;}#sk-container-id-5 label.sk-toggleable__label {cursor: pointer;display: block;width: 100%;margin-bottom: 0;padding: 0.3em;box-sizing: border-box;text-align: center;}#sk-container-id-5 label.sk-toggleable__label-arrow:before {content: \"▸\";float: left;margin-right: 0.25em;color: #696969;}#sk-container-id-5 label.sk-toggleable__label-arrow:hover:before {color: black;}#sk-container-id-5 div.sk-estimator:hover label.sk-toggleable__label-arrow:before {color: black;}#sk-container-id-5 div.sk-toggleable__content {max-height: 0;max-width: 0;overflow: hidden;text-align: left;background-color: #f0f8ff;}#sk-container-id-5 div.sk-toggleable__content pre {margin: 0.2em;color: black;border-radius: 0.25em;background-color: #f0f8ff;}#sk-container-id-5 input.sk-toggleable__control:checked~div.sk-toggleable__content {max-height: 200px;max-width: 100%;overflow: auto;}#sk-container-id-5 input.sk-toggleable__control:checked~label.sk-toggleable__label-arrow:before {content: \"▾\";}#sk-container-id-5 div.sk-estimator input.sk-toggleable__control:checked~label.sk-toggleable__label {background-color: #d4ebff;}#sk-container-id-5 div.sk-label input.sk-toggleable__control:checked~label.sk-toggleable__label {background-color: #d4ebff;}#sk-container-id-5 input.sk-hidden--visually {border: 0;clip: rect(1px 1px 1px 1px);clip: rect(1px, 1px, 1px, 1px);height: 1px;margin: -1px;overflow: hidden;padding: 0;position: absolute;width: 1px;}#sk-container-id-5 div.sk-estimator {font-family: monospace;background-color: #f0f8ff;border: 1px dotted black;border-radius: 0.25em;box-sizing: border-box;margin-bottom: 0.5em;}#sk-container-id-5 div.sk-estimator:hover {background-color: #d4ebff;}#sk-container-id-5 div.sk-parallel-item::after {content: \"\";width: 100%;border-bottom: 1px solid gray;flex-grow: 1;}#sk-container-id-5 div.sk-label:hover label.sk-toggleable__label {background-color: #d4ebff;}#sk-container-id-5 div.sk-serial::before {content: \"\";position: absolute;border-left: 1px solid gray;box-sizing: border-box;top: 0;bottom: 0;left: 50%;z-index: 0;}#sk-container-id-5 div.sk-serial {display: flex;flex-direction: column;align-items: center;background-color: white;padding-right: 0.2em;padding-left: 0.2em;position: relative;}#sk-container-id-5 div.sk-item {position: relative;z-index: 1;}#sk-container-id-5 div.sk-parallel {display: flex;align-items: stretch;justify-content: center;background-color: white;position: relative;}#sk-container-id-5 div.sk-item::before, #sk-container-id-5 div.sk-parallel-item::before {content: \"\";position: absolute;border-left: 1px solid gray;box-sizing: border-box;top: 0;bottom: 0;left: 50%;z-index: -1;}#sk-container-id-5 div.sk-parallel-item {display: flex;flex-direction: column;z-index: 1;position: relative;background-color: white;}#sk-container-id-5 div.sk-parallel-item:first-child::after {align-self: flex-end;width: 50%;}#sk-container-id-5 div.sk-parallel-item:last-child::after {align-self: flex-start;width: 50%;}#sk-container-id-5 div.sk-parallel-item:only-child::after {width: 0;}#sk-container-id-5 div.sk-dashed-wrapped {border: 1px dashed gray;margin: 0 0.4em 0.5em 0.4em;box-sizing: border-box;padding-bottom: 0.4em;background-color: white;}#sk-container-id-5 div.sk-label label {font-family: monospace;font-weight: bold;display: inline-block;line-height: 1.2em;}#sk-container-id-5 div.sk-label-container {text-align: center;}#sk-container-id-5 div.sk-container {/* jupyter's `normalize.less` sets `[hidden] { display: none; }` but bootstrap.min.css set `[hidden] { display: none !important; }` so we also need the `!important` here to be able to override the default hidden behavior on the sphinx rendered scikit-learn.org. See: https://github.com/scikit-learn/scikit-learn/issues/21755 */display: inline-block !important;position: relative;}#sk-container-id-5 div.sk-text-repr-fallback {display: none;}</style><div id=\"sk-container-id-5\" class=\"sk-top-container\"><div class=\"sk-text-repr-fallback\"><pre>MLPClassifier(hidden_layer_sizes=(128, 128))</pre><b>In a Jupyter environment, please rerun this cell to show the HTML representation or trust the notebook. <br />On GitHub, the HTML representation is unable to render, please try loading this page with nbviewer.org.</b></div><div class=\"sk-container\" hidden><div class=\"sk-item\"><div class=\"sk-estimator sk-toggleable\"><input class=\"sk-toggleable__control sk-hidden--visually\" id=\"sk-estimator-id-5\" type=\"checkbox\" checked><label for=\"sk-estimator-id-5\" class=\"sk-toggleable__label sk-toggleable__label-arrow\">MLPClassifier</label><div class=\"sk-toggleable__content\"><pre>MLPClassifier(hidden_layer_sizes=(128, 128))</pre></div></div></div></div></div>"
      ],
      "text/plain": [
       "MLPClassifier(hidden_layer_sizes=(128, 128))"
      ]
     },
     "execution_count": 53,
     "metadata": {},
     "output_type": "execute_result"
    }
   ],
   "source": [
    "log_model.fit(X_train, y_train)\n",
    "svm_model.fit(X_train, y_train)\n",
    "nn_model.fit(X_train, y_train)"
   ]
  },
  {
   "cell_type": "code",
   "execution_count": 54,
   "id": "a5749b1a",
   "metadata": {},
   "outputs": [
    {
     "name": "stdout",
     "output_type": "stream",
     "text": [
      "Logistic Regression: 0.9618461538461538\n",
      "Support Vector Machine: 1.0\n"
     ]
    }
   ],
   "source": [
    "print(f\"Logistic Regression: {log_model.score(X_test, y_test)}\")\n",
    "print(f\"Support Vector Machine: {svm_model.score(X_test, y_test)}\")"
   ]
  },
  {
   "cell_type": "code",
   "execution_count": 68,
   "id": "79c6cca0",
   "metadata": {},
   "outputs": [
    {
     "name": "stdout",
     "output_type": "stream",
     "text": [
      "Test Accuracy: 100.0%\n"
     ]
    }
   ],
   "source": [
    "# SVM\n",
    "svm = SVC(random_state=42, gamma=\"auto\")\n",
    "svm.fit(X_train, y_train)\n",
    "print(\"Test Accuracy: {}%\".format(round(svm.score(X_test, y_test)*100, 2)))"
   ]
  },
  {
   "cell_type": "code",
   "execution_count": 55,
   "id": "2f8f4273",
   "metadata": {},
   "outputs": [
    {
     "data": {
      "text/plain": [
       "(1625, 22)"
      ]
     },
     "execution_count": 55,
     "metadata": {},
     "output_type": "execute_result"
    }
   ],
   "source": [
    "X_test.shape"
   ]
  },
  {
   "cell_type": "code",
   "execution_count": 56,
   "id": "3a965a1d",
   "metadata": {},
   "outputs": [
    {
     "data": {
      "text/plain": [
       "<Axes: >"
      ]
     },
     "execution_count": 56,
     "metadata": {},
     "output_type": "execute_result"
    },
    {
     "data": {
      "image/png": "[encoded data removed]",
      "text/plain": [
       "<Figure size 640x480 with 2 Axes>"
      ]
     },
     "metadata": {},
     "output_type": "display_data"
    }
   ],
   "source": [
    "corr = data.corr()\n",
    "sns.heatmap(corr,cmap=\"Blues\")"
   ]
  },
  {
   "cell_type": "code",
   "execution_count": 57,
   "id": "963f43d0",
   "metadata": {
    "collapsed": true
   },
   "outputs": [
    {
     "data": {
      "text/html": [
       "<style>#sk-container-id-6 {color: black;}#sk-container-id-6 pre{padding: 0;}#sk-container-id-6 div.sk-toggleable {background-color: white;}#sk-container-id-6 label.sk-toggleable__label {cursor: pointer;display: block;width: 100%;margin-bottom: 0;padding: 0.3em;box-sizing: border-box;text-align: center;}#sk-container-id-6 label.sk-toggleable__label-arrow:before {content: \"▸\";float: left;margin-right: 0.25em;color: #696969;}#sk-container-id-6 label.sk-toggleable__label-arrow:hover:before {color: black;}#sk-container-id-6 div.sk-estimator:hover label.sk-toggleable__label-arrow:before {color: black;}#sk-container-id-6 div.sk-toggleable__content {max-height: 0;max-width: 0;overflow: hidden;text-align: left;background-color: #f0f8ff;}#sk-container-id-6 div.sk-toggleable__content pre {margin: 0.2em;color: black;border-radius: 0.25em;background-color: #f0f8ff;}#sk-container-id-6 input.sk-toggleable__control:checked~div.sk-toggleable__content {max-height: 200px;max-width: 100%;overflow: auto;}#sk-container-id-6 input.sk-toggleable__control:checked~label.sk-toggleable__label-arrow:before {content: \"▾\";}#sk-container-id-6 div.sk-estimator input.sk-toggleable__control:checked~label.sk-toggleable__label {background-color: #d4ebff;}#sk-container-id-6 div.sk-label input.sk-toggleable__control:checked~label.sk-toggleable__label {background-color: #d4ebff;}#sk-container-id-6 input.sk-hidden--visually {border: 0;clip: rect(1px 1px 1px 1px);clip: rect(1px, 1px, 1px, 1px);height: 1px;margin: -1px;overflow: hidden;padding: 0;position: absolute;width: 1px;}#sk-container-id-6 div.sk-estimator {font-family: monospace;background-color: #f0f8ff;border: 1px dotted black;border-radius: 0.25em;box-sizing: border-box;margin-bottom: 0.5em;}#sk-container-id-6 div.sk-estimator:hover {background-color: #d4ebff;}#sk-container-id-6 div.sk-parallel-item::after {content: \"\";width: 100%;border-bottom: 1px solid gray;flex-grow: 1;}#sk-container-id-6 div.sk-label:hover label.sk-toggleable__label {background-color: #d4ebff;}#sk-container-id-6 div.sk-serial::before {content: \"\";position: absolute;border-left: 1px solid gray;box-sizing: border-box;top: 0;bottom: 0;left: 50%;z-index: 0;}#sk-container-id-6 div.sk-serial {display: flex;flex-direction: column;align-items: center;background-color: white;padding-right: 0.2em;padding-left: 0.2em;position: relative;}#sk-container-id-6 div.sk-item {position: relative;z-index: 1;}#sk-container-id-6 div.sk-parallel {display: flex;align-items: stretch;justify-content: center;background-color: white;position: relative;}#sk-container-id-6 div.sk-item::before, #sk-container-id-6 div.sk-parallel-item::before {content: \"\";position: absolute;border-left: 1px solid gray;box-sizing: border-box;top: 0;bottom: 0;left: 50%;z-index: -1;}#sk-container-id-6 div.sk-parallel-item {display: flex;flex-direction: column;z-index: 1;position: relative;background-color: white;}#sk-container-id-6 div.sk-parallel-item:first-child::after {align-self: flex-end;width: 50%;}#sk-container-id-6 div.sk-parallel-item:last-child::after {align-self: flex-start;width: 50%;}#sk-container-id-6 div.sk-parallel-item:only-child::after {width: 0;}#sk-container-id-6 div.sk-dashed-wrapped {border: 1px dashed gray;margin: 0 0.4em 0.5em 0.4em;box-sizing: border-box;padding-bottom: 0.4em;background-color: white;}#sk-container-id-6 div.sk-label label {font-family: monospace;font-weight: bold;display: inline-block;line-height: 1.2em;}#sk-container-id-6 div.sk-label-container {text-align: center;}#sk-container-id-6 div.sk-container {/* jupyter's `normalize.less` sets `[hidden] { display: none; }` but bootstrap.min.css set `[hidden] { display: none !important; }` so we also need the `!important` here to be able to override the default hidden behavior on the sphinx rendered scikit-learn.org. See: https://github.com/scikit-learn/scikit-learn/issues/21755 */display: inline-block !important;position: relative;}#sk-container-id-6 div.sk-text-repr-fallback {display: none;}</style><div id=\"sk-container-id-6\" class=\"sk-top-container\"><div class=\"sk-text-repr-fallback\"><pre>DecisionTreeClassifier(max_depth=5, random_state=0)</pre><b>In a Jupyter environment, please rerun this cell to show the HTML representation or trust the notebook. <br />On GitHub, the HTML representation is unable to render, please try loading this page with nbviewer.org.</b></div><div class=\"sk-container\" hidden><div class=\"sk-item\"><div class=\"sk-estimator sk-toggleable\"><input class=\"sk-toggleable__control sk-hidden--visually\" id=\"sk-estimator-id-6\" type=\"checkbox\" checked><label for=\"sk-estimator-id-6\" class=\"sk-toggleable__label sk-toggleable__label-arrow\">DecisionTreeClassifier</label><div class=\"sk-toggleable__content\"><pre>DecisionTreeClassifier(max_depth=5, random_state=0)</pre></div></div></div></div></div>"
      ],
      "text/plain": [
       "DecisionTreeClassifier(max_depth=5, random_state=0)"
      ]
     },
     "execution_count": 57,
     "metadata": {},
     "output_type": "execute_result"
    }
   ],
   "source": [
    "dt = DecisionTreeClassifier(random_state = 0 , max_depth = 5)\n",
    "dt.fit(X_train , y_train)"
   ]
  },
  {
   "cell_type": "code",
   "execution_count": 58,
   "id": "c9bdcc83",
   "metadata": {},
   "outputs": [
    {
     "data": {
      "text/plain": [
       "0.979378270236996"
      ]
     },
     "execution_count": 58,
     "metadata": {},
     "output_type": "execute_result"
    }
   ],
   "source": [
    "dt.score(X_train , y_train)"
   ]
  },
  {
   "cell_type": "code",
   "execution_count": 59,
   "id": "a674e01d",
   "metadata": {},
   "outputs": [],
   "source": [
    "predictions = dt.predict(X_test)"
   ]
  },
  {
   "cell_type": "code",
   "execution_count": 60,
   "id": "be0c726e",
   "metadata": {},
   "outputs": [
    {
     "data": {
      "text/plain": [
       "0.9790769230769231"
      ]
     },
     "execution_count": 60,
     "metadata": {},
     "output_type": "execute_result"
    }
   ],
   "source": [
    "accuracy_score(y_test , predictions)"
   ]
  },
  {
   "cell_type": "code",
   "execution_count": 61,
   "id": "d287d4b1",
   "metadata": {
    "scrolled": true
   },
   "outputs": [],
   "source": [
    "(train,test) = train_test_split(data, test_size=0.3)\n",
    "train_output = train['Attribute']\n",
    "train_input = train[[x for x in train if 'Attribute' not in x]]\n",
    "test_output = test['Attribute']\n",
    "test_input = test[[x for x in test if 'Attribute' not in x]]"
   ]
  },
  {
   "cell_type": "code",
   "execution_count": 62,
   "id": "f1470d5b",
   "metadata": {},
   "outputs": [],
   "source": [
    "logistic_regression = LogisticRegression()"
   ]
  },
  {
   "cell_type": "code",
   "execution_count": 63,
   "id": "ed7beced",
   "metadata": {
    "collapsed": true
   },
   "outputs": [
    {
     "name": "stderr",
     "output_type": "stream",
     "text": [
      "C:\\Users\\Tejo Vardhan\\AppData\\Local\\Programs\\Python\\Python311\\Lib\\site-packages\\sklearn\\linear_model\\_logistic.py:460: ConvergenceWarning: lbfgs failed to converge (status=1):\n",
      "STOP: TOTAL NO. of ITERATIONS REACHED LIMIT.\n",
      "\n",
      "Increase the number of iterations (max_iter) or scale the data as shown in:\n",
      "    https://scikit-learn.org/stable/modules/preprocessing.html\n",
      "Please also refer to the documentation for alternative solver options:\n",
      "    https://scikit-learn.org/stable/modules/linear_model.html#logistic-regression\n",
      "  n_iter_i = _check_optimize_result(\n"
     ]
    },
    {
     "data": {
      "text/html": [
       "<style>#sk-container-id-7 {color: black;}#sk-container-id-7 pre{padding: 0;}#sk-container-id-7 div.sk-toggleable {background-color: white;}#sk-container-id-7 label.sk-toggleable__label {cursor: pointer;display: block;width: 100%;margin-bottom: 0;padding: 0.3em;box-sizing: border-box;text-align: center;}#sk-container-id-7 label.sk-toggleable__label-arrow:before {content: \"▸\";float: left;margin-right: 0.25em;color: #696969;}#sk-container-id-7 label.sk-toggleable__label-arrow:hover:before {color: black;}#sk-container-id-7 div.sk-estimator:hover label.sk-toggleable__label-arrow:before {color: black;}#sk-container-id-7 div.sk-toggleable__content {max-height: 0;max-width: 0;overflow: hidden;text-align: left;background-color: #f0f8ff;}#sk-container-id-7 div.sk-toggleable__content pre {margin: 0.2em;color: black;border-radius: 0.25em;background-color: #f0f8ff;}#sk-container-id-7 input.sk-toggleable__control:checked~div.sk-toggleable__content {max-height: 200px;max-width: 100%;overflow: auto;}#sk-container-id-7 input.sk-toggleable__control:checked~label.sk-toggleable__label-arrow:before {content: \"▾\";}#sk-container-id-7 div.sk-estimator input.sk-toggleable__control:checked~label.sk-toggleable__label {background-color: #d4ebff;}#sk-container-id-7 div.sk-label input.sk-toggleable__control:checked~label.sk-toggleable__label {background-color: #d4ebff;}#sk-container-id-7 input.sk-hidden--visually {border: 0;clip: rect(1px 1px 1px 1px);clip: rect(1px, 1px, 1px, 1px);height: 1px;margin: -1px;overflow: hidden;padding: 0;position: absolute;width: 1px;}#sk-container-id-7 div.sk-estimator {font-family: monospace;background-color: #f0f8ff;border: 1px dotted black;border-radius: 0.25em;box-sizing: border-box;margin-bottom: 0.5em;}#sk-container-id-7 div.sk-estimator:hover {background-color: #d4ebff;}#sk-container-id-7 div.sk-parallel-item::after {content: \"\";width: 100%;border-bottom: 1px solid gray;flex-grow: 1;}#sk-container-id-7 div.sk-label:hover label.sk-toggleable__label {background-color: #d4ebff;}#sk-container-id-7 div.sk-serial::before {content: \"\";position: absolute;border-left: 1px solid gray;box-sizing: border-box;top: 0;bottom: 0;left: 50%;z-index: 0;}#sk-container-id-7 div.sk-serial {display: flex;flex-direction: column;align-items: center;background-color: white;padding-right: 0.2em;padding-left: 0.2em;position: relative;}#sk-container-id-7 div.sk-item {position: relative;z-index: 1;}#sk-container-id-7 div.sk-parallel {display: flex;align-items: stretch;justify-content: center;background-color: white;position: relative;}#sk-container-id-7 div.sk-item::before, #sk-container-id-7 div.sk-parallel-item::before {content: \"\";position: absolute;border-left: 1px solid gray;box-sizing: border-box;top: 0;bottom: 0;left: 50%;z-index: -1;}#sk-container-id-7 div.sk-parallel-item {display: flex;flex-direction: column;z-index: 1;position: relative;background-color: white;}#sk-container-id-7 div.sk-parallel-item:first-child::after {align-self: flex-end;width: 50%;}#sk-container-id-7 div.sk-parallel-item:last-child::after {align-self: flex-start;width: 50%;}#sk-container-id-7 div.sk-parallel-item:only-child::after {width: 0;}#sk-container-id-7 div.sk-dashed-wrapped {border: 1px dashed gray;margin: 0 0.4em 0.5em 0.4em;box-sizing: border-box;padding-bottom: 0.4em;background-color: white;}#sk-container-id-7 div.sk-label label {font-family: monospace;font-weight: bold;display: inline-block;line-height: 1.2em;}#sk-container-id-7 div.sk-label-container {text-align: center;}#sk-container-id-7 div.sk-container {/* jupyter's `normalize.less` sets `[hidden] { display: none; }` but bootstrap.min.css set `[hidden] { display: none !important; }` so we also need the `!important` here to be able to override the default hidden behavior on the sphinx rendered scikit-learn.org. See: https://github.com/scikit-learn/scikit-learn/issues/21755 */display: inline-block !important;position: relative;}#sk-container-id-7 div.sk-text-repr-fallback {display: none;}</style><div id=\"sk-container-id-7\" class=\"sk-top-container\"><div class=\"sk-text-repr-fallback\"><pre>LogisticRegression()</pre><b>In a Jupyter environment, please rerun this cell to show the HTML representation or trust the notebook. <br />On GitHub, the HTML representation is unable to render, please try loading this page with nbviewer.org.</b></div><div class=\"sk-container\" hidden><div class=\"sk-item\"><div class=\"sk-estimator sk-toggleable\"><input class=\"sk-toggleable__control sk-hidden--visually\" id=\"sk-estimator-id-7\" type=\"checkbox\" checked><label for=\"sk-estimator-id-7\" class=\"sk-toggleable__label sk-toggleable__label-arrow\">LogisticRegression</label><div class=\"sk-toggleable__content\"><pre>LogisticRegression()</pre></div></div></div></div></div>"
      ],
      "text/plain": [
       "LogisticRegression()"
      ]
     },
     "execution_count": 63,
     "metadata": {},
     "output_type": "execute_result"
    }
   ],
   "source": [
    "logistic_regression.fit(train_input, train_output)"
   ]
  },
  {
   "cell_type": "code",
   "execution_count": 64,
   "id": "537607bc",
   "metadata": {},
   "outputs": [],
   "source": [
    "predicted_output = logistic_regression.predict(test_input)"
   ]
  },
  {
   "cell_type": "code",
   "execution_count": 65,
   "id": "a5c1af2f",
   "metadata": {},
   "outputs": [
    {
     "name": "stdout",
     "output_type": "stream",
     "text": [
      "Accuracy of Logistic Regression is 0.950759\n"
     ]
    }
   ],
   "source": [
    "from sklearn.metrics import accuracy_score\n",
    "accuracy = accuracy_score(test_output, predicted_output)\n",
    "print (\"Accuracy of Logistic Regression is %f\" %accuracy)"
   ]
  },
  {
   "cell_type": "code",
   "execution_count": 67,
   "id": "1f3c3006",
   "metadata": {},
   "outputs": [
    {
     "name": "stdout",
     "output_type": "stream",
     "text": [
      "Test Accuracy: 100.0%\n"
     ]
    }
   ],
   "source": []
  },
  {
   "cell_type": "code",
   "execution_count": null,
   "id": "c878309f",
   "metadata": {},
   "outputs": [],
   "source": []
  }
 ],
 "metadata": {
  "kernelspec": {
   "display_name": "Python 3 (ipykernel)",
   "language": "python",
   "name": "python3"
  },
  "language_info": {
   "codemirror_mode": {
    "name": "ipython",
    "version": 3
   },
   "file_extension": ".py",
   "mimetype": "text/x-python",
   "name": "python",
   "nbconvert_exporter": "python",
   "pygments_lexer": "ipython3",
   "version": "3.11.4"
  }
 },
 "nbformat": 4,
 "nbformat_minor": 5
}
